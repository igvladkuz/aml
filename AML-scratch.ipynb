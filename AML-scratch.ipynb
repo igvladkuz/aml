{
 "metadata": {
  "language_info": {
   "codemirror_mode": {
    "name": "ipython",
    "version": 3
   },
   "file_extension": ".py",
   "mimetype": "text/x-python",
   "name": "python",
   "nbconvert_exporter": "python",
   "pygments_lexer": "ipython3",
   "version": "3.8.5-final"
  },
  "orig_nbformat": 2,
  "kernelspec": {
   "name": "python3",
   "display_name": "Python 3.8.5 64-bit ('py38': conda)",
   "metadata": {
    "interpreter": {
     "hash": "00cecbf42264062041392869d57d5890d05b3c05ad577cd4d3f6ae1bc64ed161"
    }
   }
  }
 },
 "nbformat": 4,
 "nbformat_minor": 2,
 "cells": [
  {
   "cell_type": "code",
   "execution_count": 1,
   "metadata": {},
   "outputs": [],
   "source": [
    "import numpy as np\n",
    "import pandas as pd \n",
    "from sklearn.model_selection import train_test_split\n",
    "from sklearn.metrics import accuracy_score, roc_auc_score, precision_score, recall_score, f1_score, fbeta_score, confusion_matrix, ConfusionMatrixDisplay\n",
    "\n",
    "from aml import AutoMLClassifier\n",
    "\n",
    "import logging\n",
    "logger = logging.getLogger()\n",
    "logger.setLevel(logging.DEBUG)\n"
   ]
  },
  {
   "cell_type": "code",
   "execution_count": 2,
   "metadata": {},
   "outputs": [],
   "source": [
    "# sample data\n",
    "cols = ['Attrition_Flag', 'Customer_Age', 'Gender',\n",
    "       'Dependent_count', 'Education_Level', 'Marital_Status',\n",
    "       'Income_Category', 'Card_Category', 'Months_on_book',\n",
    "       'Total_Relationship_Count', 'Months_Inactive_12_mon',\n",
    "       'Contacts_Count_12_mon', 'Credit_Limit', 'Total_Revolving_Bal',\n",
    "       'Avg_Open_To_Buy', 'Total_Amt_Chng_Q4_Q1', 'Total_Trans_Amt',\n",
    "       'Total_Trans_Ct', 'Total_Ct_Chng_Q4_Q1', 'Avg_Utilization_Ratio']\n",
    "\n",
    "churn_data = pd.read_csv('data/BankChurners.csv', usecols=cols)"
   ]
  },
  {
   "cell_type": "code",
   "execution_count": null,
   "metadata": {},
   "outputs": [],
   "source": [
    "#churn_data.info()"
   ]
  },
  {
   "cell_type": "code",
   "execution_count": 3,
   "metadata": {},
   "outputs": [],
   "source": [
    "label = 'Attrition_Flag'\n",
    "\n",
    "y = churn_data[label]\n",
    "X = churn_data.drop(label, axis=1)\n",
    "\n",
    "# convert to list\n",
    "labels = list(y.unique())\n",
    "y = y.apply(lambda x: labels.index(x))\n",
    "\n",
    "categorical = ['Gender', 'Education_Level',\n",
    "                       'Marital_Status', 'Income_Category', 'Card_Category']\n",
    "numeric = ['Customer_Age', 'Dependent_count', 'Months_on_book', 'Total_Relationship_Count',\n",
    "                   'Months_Inactive_12_mon', 'Contacts_Count_12_mon', 'Credit_Limit', 'Total_Revolving_Bal',\n",
    "                   'Avg_Open_To_Buy', 'Total_Amt_Chng_Q4_Q1', 'Total_Trans_Amt', 'Total_Trans_Ct', 'Total_Ct_Chng_Q4_Q1', 'Avg_Utilization_Ratio']\n"
   ]
  },
  {
   "cell_type": "code",
   "execution_count": 4,
   "metadata": {},
   "outputs": [],
   "source": [
    "X_train, X_test, y_train, y_test = train_test_split(X, y, stratify=y,random_state=1234, test_size=0.2)"
   ]
  },
  {
   "cell_type": "code",
   "execution_count": 5,
   "metadata": {},
   "outputs": [],
   "source": [
    "def show_test_scores(m):\n",
    "    for pipe, params, *_ in m.best_models:\n",
    "        print(\"Model Type:\", str(type(pipe[-1]))) #last step is a classifier\n",
    "        print(\"Best pipeline parameters:\", str(params))\n",
    "        y_pred = pipe.predict(X_test)\n",
    "        roc_auc = roc_auc_score(y_test, y_pred)\n",
    "        precision = precision_score(y_test, y_pred)\n",
    "        recall = recall_score(y_test, y_pred)\n",
    "        print(\"ROC AUC: \", roc_auc)\n",
    "        print(\"Precision: \", precision)\n",
    "        print(\"Recall :\", recall)\n",
    "        print(\"F1 score:\", 2*precision*recall/(precision+recall))\n",
    "        print()"
   ]
  },
  {
   "cell_type": "code",
   "execution_count": 6,
   "metadata": {},
   "outputs": [],
   "source": [
    "aml = AutoMLClassifier('roc_auc', 10, try_LR=False, try_DT=False, try_RF=False, try_HGB=True, try_GB=False, try_SVC=False, try_KM=False, try_MLP=False)"
   ]
  },
  {
   "cell_type": "code",
   "execution_count": 7,
   "metadata": {},
   "outputs": [
    {
     "output_type": "stream",
     "name": "stderr",
     "text": [
      "INFO:root:Trying <class 'sklearn.ensemble._hist_gradient_boosting.gradient_boosting.HistGradientBoostingClassifier'>...\n",
      "INFO:root:Best parameters: {'clf__max_leaf_nodes': 20, 'clf__max_iter': 250, 'clf__max_depth': 75, 'clf__l2_regularization': 9}\n",
      "INFO:root:Best CV score: 0.9940058148819293\n",
      "CPU times: user 17.9 s, sys: 1.07 s, total: 18.9 s\n",
      "Wall time: 22.6 s\n"
     ]
    }
   ],
   "source": [
    "%%time\n",
    "#aml.fit(X_train, y_train, categorical, numeric)\n",
    "aml.fit(X_train, y_train)"
   ]
  },
  {
   "cell_type": "code",
   "execution_count": 8,
   "metadata": {},
   "outputs": [
    {
     "output_type": "stream",
     "name": "stdout",
     "text": [
      "Model Type: <class 'sklearn.ensemble._hist_gradient_boosting.gradient_boosting.HistGradientBoostingClassifier'>\nBest pipeline parameters: {'clf__max_leaf_nodes': 20, 'clf__max_iter': 250, 'clf__max_depth': 75, 'clf__l2_regularization': 9}\nROC AUC:  0.9271541627097183\nPrecision:  0.909967845659164\nRecall : 0.8707692307692307\nF1 score: 0.889937106918239\n\n"
     ]
    }
   ],
   "source": [
    "show_test_scores(aml)"
   ]
  },
  {
   "cell_type": "code",
   "execution_count": null,
   "metadata": {},
   "outputs": [],
   "source": []
  }
 ]
}