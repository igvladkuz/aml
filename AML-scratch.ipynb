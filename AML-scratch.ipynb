{
 "metadata": {
  "language_info": {
   "codemirror_mode": {
    "name": "ipython",
    "version": 3
   },
   "file_extension": ".py",
   "mimetype": "text/x-python",
   "name": "python",
   "nbconvert_exporter": "python",
   "pygments_lexer": "ipython3",
   "version": "3.8.5-final"
  },
  "orig_nbformat": 2,
  "kernelspec": {
   "name": "python3",
   "display_name": "Python 3.8.5 64-bit ('py38': conda)",
   "metadata": {
    "interpreter": {
     "hash": "00cecbf42264062041392869d57d5890d05b3c05ad577cd4d3f6ae1bc64ed161"
    }
   }
  }
 },
 "nbformat": 4,
 "nbformat_minor": 2,
 "cells": [
  {
   "cell_type": "code",
   "execution_count": 1,
   "metadata": {},
   "outputs": [],
   "source": [
    "import numpy as np\n",
    "import pandas as pd \n",
    "from sklearn.model_selection import train_test_split\n",
    "from sklearn.metrics import accuracy_score, roc_auc_score, precision_score, recall_score, f1_score, fbeta_score, confusion_matrix, ConfusionMatrixDisplay\n",
    "\n",
    "from aml import AutoMLClassifier\n",
    "\n",
    "import logging\n",
    "logger = logging.getLogger()\n",
    "logger.setLevel(logging.DEBUG)\n"
   ]
  },
  {
   "cell_type": "code",
   "execution_count": 2,
   "metadata": {},
   "outputs": [],
   "source": [
    "# sample data\n",
    "cols = ['Attrition_Flag', 'Customer_Age', 'Gender',\n",
    "       'Dependent_count', 'Education_Level', 'Marital_Status',\n",
    "       'Income_Category', 'Card_Category', 'Months_on_book',\n",
    "       'Total_Relationship_Count', 'Months_Inactive_12_mon',\n",
    "       'Contacts_Count_12_mon', 'Credit_Limit', 'Total_Revolving_Bal',\n",
    "       'Avg_Open_To_Buy', 'Total_Amt_Chng_Q4_Q1', 'Total_Trans_Amt',\n",
    "       'Total_Trans_Ct', 'Total_Ct_Chng_Q4_Q1', 'Avg_Utilization_Ratio']\n",
    "\n",
    "churn_data = pd.read_csv('data/BankChurners.csv', usecols=cols)"
   ]
  },
  {
   "cell_type": "code",
   "execution_count": 3,
   "metadata": {},
   "outputs": [],
   "source": [
    "#churn_data.info()"
   ]
  },
  {
   "cell_type": "code",
   "execution_count": 4,
   "metadata": {},
   "outputs": [],
   "source": [
    "label = 'Attrition_Flag'\n",
    "\n",
    "y = churn_data[label]\n",
    "X = churn_data.drop(label, axis=1)\n",
    "\n",
    "# convert to list\n",
    "labels = list(y.unique())\n",
    "y = y.apply(lambda x: labels.index(x))"
   ]
  },
  {
   "cell_type": "code",
   "execution_count": 5,
   "metadata": {},
   "outputs": [],
   "source": [
    "X_train, X_test, y_train, y_test = train_test_split(X, y, stratify=y,random_state=1234, test_size=0.2)"
   ]
  },
  {
   "cell_type": "code",
   "execution_count": 8,
   "metadata": {},
   "outputs": [],
   "source": [
    "def show_test_scores(m):\n",
    "    for pipe, *_ in m.best_models:\n",
    "        print(\"Model Type:\", str(type(pipe[-1]))) #last step is a classifier\n",
    "        y_pred = pipe.predict(X_test)\n",
    "        roc_auc = roc_auc_score(y_test, y_pred)\n",
    "        precision = precision_score(y_test, y_pred)\n",
    "        recall = recall_score(y_test, y_pred)\n",
    "        print(\"ROC AUC: \", roc_auc)\n",
    "        print(\"Precision: \", precision)\n",
    "        print(\"Recall :\", recall)\n",
    "        print(\"F1 score:\", 2*precision*recall/(precision+recall))\n",
    "        print()"
   ]
  },
  {
   "cell_type": "code",
   "execution_count": 11,
   "metadata": {},
   "outputs": [],
   "source": [
    "aml = AutoMLClassifier('roc_auc_score', 300, try_LR=True, try_DT=False, try_RF=False, try_GB=False, try_SVC=False, try_KM=False)"
   ]
  },
  {
   "cell_type": "code",
   "execution_count": 12,
   "metadata": {},
   "outputs": [
    {
     "output_type": "stream",
     "name": "stdout",
     "text": [
      "CPU times: user 5.9 s, sys: 689 ms, total: 6.59 s\n",
      "Wall time: 24.6 s\n",
      "/anaconda3/envs/py38/lib/python3.8/site-packages/sklearn/model_selection/_search.py:918: UserWarning: One or more of the test scores are non-finite: [       nan 0.84882509 0.84851548        nan        nan        nan\n",
      "        nan        nan        nan        nan 0.84586           nan\n",
      "        nan        nan        nan        nan        nan        nan\n",
      " 0.84882509        nan 0.84882509        nan        nan        nan\n",
      "        nan        nan        nan        nan 0.84882509 0.84844195\n",
      "        nan        nan 0.84882509 0.84882509        nan        nan\n",
      "        nan        nan 0.84875156 0.84844195        nan        nan\n",
      "        nan 0.8484419         nan        nan        nan        nan\n",
      "        nan        nan 0.84867945        nan        nan        nan\n",
      "        nan        nan        nan 0.84882509        nan        nan\n",
      " 0.84882509        nan        nan        nan        nan        nan\n",
      " 0.84875156        nan        nan        nan        nan        nan\n",
      "        nan        nan        nan        nan        nan        nan\n",
      " 0.84875156        nan        nan        nan        nan        nan\n",
      " 0.84882509 0.84792719        nan        nan        nan        nan\n",
      "        nan        nan        nan        nan 0.84768963 0.84822136\n",
      "        nan        nan        nan 0.8484419         nan        nan\n",
      " 0.84851548 0.84882509        nan        nan        nan        nan\n",
      "        nan        nan        nan 0.84776316 0.84844195        nan\n",
      "        nan 0.84814783        nan        nan        nan 0.84852526\n",
      " 0.84882509 0.84822136        nan        nan 0.8464087         nan\n",
      "        nan        nan        nan        nan        nan        nan\n",
      "        nan        nan        nan        nan 0.84912068        nan\n",
      "        nan        nan        nan 0.84829489        nan        nan\n",
      "        nan        nan        nan        nan        nan 0.84844195\n",
      " 0.84822136        nan        nan 0.80812453        nan        nan\n",
      "        nan        nan        nan        nan 0.848442          nan\n",
      "        nan 0.84875156 0.84882509        nan        nan        nan\n",
      "        nan        nan        nan        nan        nan        nan\n",
      "        nan        nan        nan        nan        nan 0.8480252\n",
      "        nan        nan        nan        nan        nan 0.8480743\n",
      "        nan        nan        nan 0.84882509        nan        nan\n",
      " 0.84875156        nan        nan        nan        nan        nan\n",
      "        nan        nan        nan        nan        nan        nan\n",
      "        nan        nan        nan        nan        nan        nan\n",
      " 0.84882509        nan        nan        nan        nan        nan\n",
      "        nan 0.84778008        nan        nan        nan 0.84836842\n",
      " 0.84745208        nan        nan        nan        nan        nan\n",
      "        nan        nan        nan        nan        nan        nan\n",
      "        nan 0.84882509        nan        nan 0.84792714        nan\n",
      "        nan        nan        nan        nan        nan        nan\n",
      "        nan        nan 0.84882509        nan 0.84768963 0.84882509\n",
      " 0.84844195        nan        nan        nan 0.84783522 0.84822136\n",
      "        nan        nan        nan        nan 0.84882509        nan\n",
      "        nan        nan        nan 0.84792714 0.84882509        nan\n",
      " 0.84882509        nan        nan 0.84836842        nan 0.84792714\n",
      "        nan        nan        nan        nan        nan        nan\n",
      "        nan        nan        nan        nan        nan        nan\n",
      "        nan 0.84792714 0.84882509        nan        nan        nan\n",
      "        nan 0.84844195        nan 0.84778008 0.84776316        nan]\n",
      "  warnings.warn(\n"
     ]
    }
   ],
   "source": [
    "%%time\n",
    "aml.fit(X_train, y_train)"
   ]
  },
  {
   "cell_type": "code",
   "execution_count": 13,
   "metadata": {},
   "outputs": [
    {
     "output_type": "stream",
     "name": "stdout",
     "text": [
      "Model Type: <class 'sklearn.linear_model._logistic.LogisticRegression'>\nROC AUC:  0.854049654049654\nPrecision:  0.5175600739371534\nRecall : 0.8615384615384616\nF1 score: 0.6466512702078523\n\n"
     ]
    }
   ],
   "source": [
    "show_test_scores(aml)"
   ]
  },
  {
   "cell_type": "code",
   "execution_count": null,
   "metadata": {},
   "outputs": [],
   "source": []
  }
 ]
}