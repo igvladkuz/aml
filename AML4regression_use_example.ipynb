{
 "cells": [
  {
   "cell_type": "code",
   "execution_count": null,
   "metadata": {},
   "outputs": [],
   "source": [
    "from datetime import time, datetime\n",
    "import numpy as np\n",
    "import pandas as pd \n",
    "from sklearn.model_selection import train_test_split\n",
    "from sklearn.metrics import r2_score, max_error, mean_squared_error, mean_absolute_error\n",
    "\n",
    "import matplotlib.pyplot as plt\n",
    "\n",
    "from aml import AutoMLRegressor\n",
    "import math\n",
    "import logging\n",
    "logger = logging.getLogger()\n",
    "logger.setLevel(logging.DEBUG)"
   ]
  },
  {
   "cell_type": "code",
   "execution_count": null,
   "metadata": {},
   "outputs": [],
   "source": [
    "# Re-fetch the dataset from internet if needed\n",
    "# dataset_path = \"https://archive.ics.uci.edu/ml/machine-learning-databases/auto-mpg/auto-mpg.data\"\n",
    "# column_names = [\"mpg\", \"cylinders\", \"displacement\",\"horsepower\",\"weight\",\"acceleration\",\"model year\", \"origin\"]\n",
    "# raw_dataset = pd.read_csv(dataset_path,names = column_names, sep=\" \", na_values=\"?\", skipinitialspace=True, comment=\"\\t\")\n",
    "# raw_dataset.to_csv('data/auto-mpg.csv', index=False)\n",
    "# raw_dataset.dtypes"
   ]
  },
  {
   "cell_type": "code",
   "execution_count": null,
   "metadata": {},
   "outputs": [],
   "source": [
    "raw_dataset = pd.read_csv('data/auto-mpg.csv')\n",
    "raw_dataset.dropna(inplace=True)\n",
    "X=raw_dataset.drop(['mpg'],axis=1)\n",
    "y=raw_dataset[['mpg']]\n",
    "y=np.ravel(y)"
   ]
  },
  {
   "cell_type": "code",
   "execution_count": null,
   "metadata": {},
   "outputs": [],
   "source": [
    "X_train, X_test, y_train, y_test = train_test_split(X, y,random_state=1234, test_size=0.2)"
   ]
  },
  {
   "cell_type": "code",
   "execution_count": null,
   "metadata": {},
   "outputs": [],
   "source": [
    "chosen_label = 'mpg'\n",
    "categorical_features = ['model year', 'origin']\n",
    "numeric_features = 'cylinders,displacement,horsepower,weight,acceleration'.split(',')"
   ]
  },
  {
   "cell_type": "code",
   "execution_count": null,
   "metadata": {},
   "outputs": [],
   "source": [
    "import matplotlib.pyplot as plt\n",
    "\n",
    "def show_test_scores(m):\n",
    "    for pipe, params, *_ in m.best_models:\n",
    "        print(\"Model Type:\", pipe[-1].__class__) #last step is a classifier\n",
    "        print(\"Default pipeline parameters:\", str(pipe))\n",
    "        print(\"Best pipeline parameters:\", str(params))\n",
    "        y_pred = pipe.predict(X_test)\n",
    "        mae = mean_absolute_error(y_test, y_pred)\n",
    "        print(f\"MAE: {mae}\")\n",
    "        mse = mean_squared_error(y_test, y_pred)\n",
    "        print(f\"RMSE: {math.sqrt(mse)}\")\n",
    "        r2 = r2_score(y_test, y_pred)\n",
    "        print(f\"R2 score: {r2}\")\n",
    "        # Plot predictions vs ground truth\n",
    "\n",
    "def plot_true_vs_pred(y_test,y_pred):\n",
    "       plt.figure(figsize=(8,8))\n",
    "       plt.scatter(y_test,y_pred)\n",
    "       plt.xlabel('True '+chosen_label)\n",
    "       plt.ylabel('Predicted '+chosen_label)\n",
    "       #plt.axis('square')\n",
    "       max_val = np.max(y_test)\n",
    "       min_val = np.min(y_test)\n",
    "       plt.plot([min_val,max_val], [min_val,max_val])"
   ]
  },
  {
   "cell_type": "code",
   "execution_count": null,
   "metadata": {},
   "outputs": [],
   "source": [
    "start_time = datetime.now()\n",
    "print(f'Started at {start_time}')\n",
    "model = AutoMLRegressor('mse', 100, try_LR=False, try_DT=False, try_RF=False, try_HGB=True, try_GB=False, try_SVC=False, try_MLP=False)\n",
    "\n",
    "model.fit(X_train, y_train, categorical=categorical_features, numeric=numeric_features)\n",
    "#model.fit(X_train, y_train)\n",
    "show_test_scores(model)\n",
    "\n",
    "end_time = datetime.now()\n",
    "print('Done.')\n",
    "print(f'Duration: {end_time-start_time}')"
   ]
  }
 ],
 "metadata": {
  "kernelspec": {
   "display_name": "Python 3.7.12 ('azureml37')",
   "language": "python",
   "name": "python3"
  },
  "language_info": {
   "name": "python",
   "version": "3.7.12"
  },
  "orig_nbformat": 4,
  "vscode": {
   "interpreter": {
    "hash": "d07f92389443418de4b3e491db62c0d9e010eb9b68594749df15f7011aeb5e45"
   }
  }
 },
 "nbformat": 4,
 "nbformat_minor": 2
}
