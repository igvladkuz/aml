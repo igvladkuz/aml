{
 "metadata": {
  "language_info": {
   "codemirror_mode": {
    "name": "ipython",
    "version": 3
   },
   "file_extension": ".py",
   "mimetype": "text/x-python",
   "name": "python",
   "nbconvert_exporter": "python",
   "pygments_lexer": "ipython3",
   "version": "3.7.3-final"
  },
  "orig_nbformat": 2,
  "kernelspec": {
   "name": "python3",
   "display_name": "Python 3.7.3 64-bit ('py37': conda)",
   "metadata": {
    "interpreter": {
     "hash": "65bbdbf91f3b4089cff299ddf61ffa1d4c5714d0c667961a21e59874228ce555"
    }
   }
  }
 },
 "nbformat": 4,
 "nbformat_minor": 2,
 "cells": [
  {
   "source": [
    "Input: pandas data frame"
   ],
   "cell_type": "markdown",
   "metadata": {}
  },
  {
   "cell_type": "code",
   "execution_count": 2,
   "metadata": {},
   "outputs": [],
   "source": [
    "import numpy as np\n",
    "import pandas as pd\n",
    "import matplotlib.pyplot as plt"
   ]
  },
  {
   "cell_type": "code",
   "execution_count": 3,
   "metadata": {},
   "outputs": [],
   "source": [
    "df_in = pd.read_csv(\"data/KS_train_data.csv.gz\")"
   ]
  },
  {
   "cell_type": "code",
   "execution_count": 4,
   "metadata": {},
   "outputs": [
    {
     "output_type": "stream",
     "name": "stdout",
     "text": [
      "<class 'pandas.core.frame.DataFrame'>\nRangeIndex: 100000 entries, 0 to 99999\nData columns (total 21 columns):\n #   Column                    Non-Null Count   Dtype  \n---  ------                    --------------   -----  \n 0   project_id                100000 non-null  object \n 1   backers_count             100000 non-null  int64  \n 2   blurb                     99998 non-null   object \n 3   category                  100000 non-null  object \n 4   converted_pledged_amount  100000 non-null  int64  \n 5   country                   99997 non-null   object \n 6   created_at                100000 non-null  int64  \n 7   currency                  100000 non-null  object \n 8   deadline                  100000 non-null  int64  \n 9   fx_rate                   100000 non-null  float64\n 10  goal                      100000 non-null  float64\n 11  launched_at               100000 non-null  int64  \n 12  name                      99999 non-null   object \n 13  pledged                   100000 non-null  float64\n 14  staff_pick                100000 non-null  bool   \n 15  usd_pledged               100000 non-null  float64\n 16  location                  100000 non-null  object \n 17  funded                    100000 non-null  bool   \n 18  subcategory               100000 non-null  object \n 19  project_url               100000 non-null  object \n 20  reward_url                100000 non-null  object \ndtypes: bool(2), float64(4), int64(5), object(10)\nmemory usage: 14.7+ MB\n"
     ]
    }
   ],
   "source": [
    "df_in.info()"
   ]
  },
  {
   "cell_type": "code",
   "execution_count": 5,
   "metadata": {},
   "outputs": [],
   "source": [
    "from sklearn.datasets import make_classification"
   ]
  },
  {
   "cell_type": "code",
   "execution_count": null,
   "metadata": {},
   "outputs": [],
   "source": [
    "X, y  = make_classification(n_samples=1000, n_features=20, n_informative=2, n_redundant=2, )"
   ]
  },
  {
   "cell_type": "code",
   "execution_count": 3,
   "metadata": {},
   "outputs": [],
   "source": [
    "from sklearn.datasets import load_breast_cancer\n",
    "d = load_breast_cancer()\n",
    "y = d['target']\n",
    "X = pd.DataFrame(d['data'], columns=d['feature_names'])"
   ]
  },
  {
   "cell_type": "code",
   "execution_count": 4,
   "metadata": {},
   "outputs": [
    {
     "output_type": "stream",
     "name": "stdout",
     "text": [
      "<class 'pandas.core.frame.DataFrame'>\nRangeIndex: 569 entries, 0 to 568\nData columns (total 30 columns):\n #   Column                   Non-Null Count  Dtype  \n---  ------                   --------------  -----  \n 0   mean radius              569 non-null    float64\n 1   mean texture             569 non-null    float64\n 2   mean perimeter           569 non-null    float64\n 3   mean area                569 non-null    float64\n 4   mean smoothness          569 non-null    float64\n 5   mean compactness         569 non-null    float64\n 6   mean concavity           569 non-null    float64\n 7   mean concave points      569 non-null    float64\n 8   mean symmetry            569 non-null    float64\n 9   mean fractal dimension   569 non-null    float64\n 10  radius error             569 non-null    float64\n 11  texture error            569 non-null    float64\n 12  perimeter error          569 non-null    float64\n 13  area error               569 non-null    float64\n 14  smoothness error         569 non-null    float64\n 15  compactness error        569 non-null    float64\n 16  concavity error          569 non-null    float64\n 17  concave points error     569 non-null    float64\n 18  symmetry error           569 non-null    float64\n 19  fractal dimension error  569 non-null    float64\n 20  worst radius             569 non-null    float64\n 21  worst texture            569 non-null    float64\n 22  worst perimeter          569 non-null    float64\n 23  worst area               569 non-null    float64\n 24  worst smoothness         569 non-null    float64\n 25  worst compactness        569 non-null    float64\n 26  worst concavity          569 non-null    float64\n 27  worst concave points     569 non-null    float64\n 28  worst symmetry           569 non-null    float64\n 29  worst fractal dimension  569 non-null    float64\ndtypes: float64(30)\nmemory usage: 133.5 KB\n"
     ]
    }
   ],
   "source": [
    "X.info()"
   ]
  },
  {
   "cell_type": "code",
   "execution_count": 6,
   "metadata": {},
   "outputs": [
    {
     "output_type": "stream",
     "name": "stderr",
     "text": [
      "/anaconda3/envs/py37/lib/python3.7/site-packages/ipykernel_launcher.py:4: DeprecationWarning: This function is deprecated. Please call randint(0, 569 + 1) instead\n  after removing the cwd from sys.path.\n"
     ]
    },
    {
     "output_type": "execute_result",
     "data": {
      "text/plain": [
       "array([294,  53, 204, 372, 279, 233, 154,  30, 158, 374, 442, 120, 476,\n",
       "       325, 336, 383, 246, 510, 431, 562,  76, 293, 506, 195, 139, 336,\n",
       "         3, 258, 275, 459, 371, 465,  14, 243, 455, 490,  81, 116, 197,\n",
       "        84,  45, 528,  41, 440, 236,  86, 303,  18, 482, 365, 135, 559,\n",
       "       244, 374, 546,  10, 284,   4,  82, 103, 345, 311, 235, 334, 434,\n",
       "       183, 340, 256, 354, 346, 417, 377, 497, 196, 119, 465, 250, 436,\n",
       "       448, 469, 372, 425,   1, 142, 396,  26,  68, 150, 440, 136, 527,\n",
       "       400, 130, 195,  46, 482, 439, 292, 377, 514, 471, 365, 212, 291,\n",
       "       332, 117, 208, 520, 493,  75,  15, 448, 211, 313, 561, 318, 211,\n",
       "       343, 233, 164, 317, 540, 257, 509, 286,  98, 568, 487, 408,  12,\n",
       "       460, 520, 303, 150, 429, 531,  41, 431, 551, 295, 210, 379, 165,\n",
       "        98,  87, 550, 553, 303, 547, 404, 345, 107, 283, 316, 259, 209,\n",
       "       447,  32, 312,  48, 314, 350, 316, 505, 368, 178, 433, 106, 260,\n",
       "         3])"
      ]
     },
     "metadata": {},
     "execution_count": 6
    }
   ],
   "source": [
    "frac = .3\n",
    "rows = X.shape[0]\n",
    "np.random.seed(1234)\n",
    "mod_ind = np.random.random_integers(0,rows, size=int(rows*frac))\n",
    "#X.iloc(mod_ind)\n",
    "mod_ind"
   ]
  },
  {
   "cell_type": "code",
   "execution_count": 9,
   "metadata": {},
   "outputs": [],
   "source": [
    "#let's remove values in specific or random columns\n",
    "columns = X.columns\n",
    "col = 'mean texture'\n",
    "for i in mod_ind:\n",
    "    c = np.random.choice(columns)\n",
    "    #print(c)\n",
    "    #X.iloc[i][col] = np.NaN\n",
    "    X.iloc[i][c] = np.NaN\n",
    "\n"
   ]
  },
  {
   "cell_type": "code",
   "execution_count": 11,
   "metadata": {},
   "outputs": [
    {
     "output_type": "stream",
     "name": "stdout",
     "text": [
      "<class 'pandas.core.frame.DataFrame'>\nRangeIndex: 569 entries, 0 to 568\nData columns (total 30 columns):\n #   Column                   Non-Null Count  Dtype  \n---  ------                   --------------  -----  \n 0   mean radius              557 non-null    float64\n 1   mean texture             555 non-null    float64\n 2   mean perimeter           555 non-null    float64\n 3   mean area                556 non-null    float64\n 4   mean smoothness          558 non-null    float64\n 5   mean compactness         554 non-null    float64\n 6   mean concavity           561 non-null    float64\n 7   mean concave points      564 non-null    float64\n 8   mean symmetry            557 non-null    float64\n 9   mean fractal dimension   562 non-null    float64\n 10  radius error             562 non-null    float64\n 11  texture error            559 non-null    float64\n 12  perimeter error          560 non-null    float64\n 13  area error               559 non-null    float64\n 14  smoothness error         550 non-null    float64\n 15  compactness error        553 non-null    float64\n 16  concavity error          554 non-null    float64\n 17  concave points error     556 non-null    float64\n 18  symmetry error           558 non-null    float64\n 19  fractal dimension error  559 non-null    float64\n 20  worst radius             557 non-null    float64\n 21  worst texture            558 non-null    float64\n 22  worst perimeter          562 non-null    float64\n 23  worst area               563 non-null    float64\n 24  worst smoothness         557 non-null    float64\n 25  worst compactness        560 non-null    float64\n 26  worst concavity          555 non-null    float64\n 27  worst concave points     561 non-null    float64\n 28  worst symmetry           559 non-null    float64\n 29  worst fractal dimension  558 non-null    float64\ndtypes: float64(30)\nmemory usage: 133.5 KB\n"
     ]
    }
   ],
   "source": [
    "X.info()"
   ]
  },
  {
   "cell_type": "code",
   "execution_count": 3,
   "metadata": {},
   "outputs": [],
   "source": [
    "\n",
    "cols = ['Attrition_Flag', 'Customer_Age', 'Gender',\n",
    "        'Dependent_count', 'Education_Level', 'Marital_Status',\n",
    "        'Income_Category', 'Card_Category', 'Months_on_book',\n",
    "        'Total_Relationship_Count', 'Months_Inactive_12_mon',\n",
    "        'Contacts_Count_12_mon', 'Credit_Limit', 'Total_Revolving_Bal',\n",
    "        'Avg_Open_To_Buy', 'Total_Amt_Chng_Q4_Q1', 'Total_Trans_Amt',\n",
    "        'Total_Trans_Ct', 'Total_Ct_Chng_Q4_Q1', 'Avg_Utilization_Ratio']\n",
    "\n",
    "churn_data = pd.read_csv('data/BankChurners.csv', usecols=cols)\n",
    "\n",
    "label = 'Attrition_Flag'\n"
   ]
  },
  {
   "cell_type": "code",
   "execution_count": 5,
   "metadata": {},
   "outputs": [],
   "source": [
    "from sklearn.model_selection import train_test_split\n",
    "\n",
    "y = churn_data[label]\n",
    "X = churn_data.drop(label, axis=1)\n",
    "\n",
    "# convert to list\n",
    "labels = list(y.unique())\n",
    "y = y.apply(lambda x: labels.index(x))\n",
    "\n",
    "X_train, X_test, y_train, y_test = train_test_split(\n",
    "    X, y, stratify=y, random_state=1234, test_size=0.2)"
   ]
  },
  {
   "cell_type": "code",
   "execution_count": 8,
   "metadata": {},
   "outputs": [
    {
     "output_type": "stream",
     "name": "stdout",
     "text": [
      "<class 'pandas.core.frame.DataFrame'>\nInt64Index: 8101 entries, 3307 to 4858\nData columns (total 19 columns):\n #   Column                    Non-Null Count  Dtype  \n---  ------                    --------------  -----  \n 0   Customer_Age              8101 non-null   int64  \n 1   Gender                    8101 non-null   object \n 2   Dependent_count           8101 non-null   int64  \n 3   Education_Level           8101 non-null   object \n 4   Marital_Status            8101 non-null   object \n 5   Income_Category           8101 non-null   object \n 6   Card_Category             8101 non-null   object \n 7   Months_on_book            8101 non-null   int64  \n 8   Total_Relationship_Count  8101 non-null   int64  \n 9   Months_Inactive_12_mon    8101 non-null   int64  \n 10  Contacts_Count_12_mon     8101 non-null   int64  \n 11  Credit_Limit              8101 non-null   float64\n 12  Total_Revolving_Bal       8101 non-null   int64  \n 13  Avg_Open_To_Buy           8101 non-null   float64\n 14  Total_Amt_Chng_Q4_Q1      8101 non-null   float64\n 15  Total_Trans_Amt           8101 non-null   int64  \n 16  Total_Trans_Ct            8101 non-null   int64  \n 17  Total_Ct_Chng_Q4_Q1       8101 non-null   float64\n 18  Avg_Utilization_Ratio     8101 non-null   float64\ndtypes: float64(5), int64(9), object(5)\nmemory usage: 1.2+ MB\n"
     ]
    }
   ],
   "source": [
    "X_train.info()"
   ]
  },
  {
   "cell_type": "code",
   "execution_count": 14,
   "metadata": {},
   "outputs": [],
   "source": [
    "cat_subset = X_train.select_dtypes(include=[object,'category',bool])"
   ]
  },
  {
   "cell_type": "code",
   "execution_count": 16,
   "metadata": {},
   "outputs": [],
   "source": [
    "categorical_values = []\n",
    "for i in range(cat_subset.shape[1]):\n",
    "    categorical_values.append(\n",
    "        list(cat_subset.iloc[:, i].dropna().unique()))"
   ]
  },
  {
   "cell_type": "code",
   "execution_count": 17,
   "metadata": {},
   "outputs": [
    {
     "output_type": "execute_result",
     "data": {
      "text/plain": [
       "[['M', 'F'],\n",
       " ['High School',\n",
       "  'Uneducated',\n",
       "  'Post-Graduate',\n",
       "  'Graduate',\n",
       "  'Unknown',\n",
       "  'College',\n",
       "  'Doctorate'],\n",
       " ['Married', 'Single', 'Unknown', 'Divorced'],\n",
       " ['$80K - $120K',\n",
       "  '$60K - $80K',\n",
       "  'Less than $40K',\n",
       "  '$120K +',\n",
       "  '$40K - $60K',\n",
       "  'Unknown'],\n",
       " ['Blue', 'Gold', 'Silver', 'Platinum']]"
      ]
     },
     "metadata": {},
     "execution_count": 17
    }
   ],
   "source": [
    "categorical_values"
   ]
  },
  {
   "cell_type": "code",
   "execution_count": null,
   "metadata": {},
   "outputs": [],
   "source": []
  }
 ]
}